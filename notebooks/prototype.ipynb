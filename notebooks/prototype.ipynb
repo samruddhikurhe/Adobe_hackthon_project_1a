{
 "cells": [
  {
   "cell_type": "code",
   "execution_count": null,
   "id": "eb687f2f",
   "metadata": {},
   "outputs": [
    {
     "name": "stdout",
     "output_type": "stream",
     "text": [
      "{'text': 'A', 'x0': 199.86, 'x1': 208.28574, 'top': 107.43206999999995, 'doctop': 107.43206999999995, 'bottom': 119.10206999999991, 'upright': True, 'height': 11.669999999999959, 'width': 8.42573999999999, 'direction': 'ltr', 'fontname': 'OIKOMH+Arial,Bold', 'size': 11.669999999999959, 'adv': 0.722}\n",
      "{'text': 'pp', 'x0': 208.28457300000002, 'x1': 222.544146, 'top': 107.43206999999995, 'doctop': 107.43206999999995, 'bottom': 119.10206999999991, 'upright': True, 'height': 11.669999999999959, 'width': 14.259572999999989, 'direction': 'ltr', 'fontname': 'OIKOMH+Arial,Bold', 'size': 11.669999999999959, 'adv': 0.611}\n",
      "{'text': 'li', 'x0': 222.542979, 'x1': 229.088682, 'top': 107.43206999999995, 'doctop': 107.43206999999995, 'bottom': 119.10206999999991, 'upright': True, 'height': 11.669999999999959, 'width': 6.545703000000003, 'direction': 'ltr', 'fontname': 'OIKOMH+Arial,Bold', 'size': 11.669999999999959, 'adv': 0.278}\n",
      "{'text': 'ca', 'x0': 229.087515, 'x1': 242.063388, 'top': 107.43206999999995, 'doctop': 107.43206999999995, 'bottom': 119.10206999999991, 'upright': True, 'height': 11.669999999999959, 'width': 12.975873000000007, 'direction': 'ltr', 'fontname': 'OIKOMH+Arial,Bold', 'size': 11.669999999999959, 'adv': 0.556}\n",
      "{'text': 't', 'x0': 242.06222100000002, 'x1': 245.94833100000002, 'top': 107.43206999999995, 'doctop': 107.43206999999995, 'bottom': 119.10206999999991, 'upright': True, 'height': 11.669999999999959, 'width': 3.886110000000002, 'direction': 'ltr', 'fontname': 'OIKOMH+Arial,Bold', 'size': 11.669999999999959, 'adv': 0.333}\n",
      "{'text': 'i', 'x0': 245.94716400000001, 'x1': 249.191424, 'top': 107.43206999999995, 'doctop': 107.43206999999995, 'bottom': 119.10206999999991, 'upright': True, 'height': 11.669999999999959, 'width': 3.244259999999997, 'direction': 'ltr', 'fontname': 'OIKOMH+Arial,Bold', 'size': 11.669999999999959, 'adv': 0.278}\n",
      "{'text': 'on', 'x0': 249.24860700000002, 'x1': 263.46033300000005, 'top': 107.43206999999995, 'doctop': 107.43206999999995, 'bottom': 119.10206999999991, 'upright': True, 'height': 11.669999999999959, 'width': 14.211726000000027, 'direction': 'ltr', 'fontname': 'OIKOMH+Arial,Bold', 'size': 11.669999999999959, 'adv': 0.611}\n",
      "{'text': 'f', 'x0': 266.701092, 'x1': 270.587202, 'top': 107.43206999999995, 'doctop': 107.43206999999995, 'bottom': 119.10206999999991, 'upright': True, 'height': 11.669999999999959, 'width': 3.8861099999999738, 'direction': 'ltr', 'fontname': 'OIKOMH+Arial,Bold', 'size': 11.669999999999959, 'adv': 0.333}\n",
      "{'text': 'o', 'x0': 270.660723, 'x1': 277.79109300000005, 'top': 107.43206999999995, 'doctop': 107.43206999999995, 'bottom': 119.10206999999991, 'upright': True, 'height': 11.669999999999959, 'width': 7.130370000000028, 'direction': 'ltr', 'fontname': 'OIKOMH+Arial,Bold', 'size': 11.669999999999959, 'adv': 0.611}\n",
      "{'text': 'r', 'x0': 277.74207900000005, 'x1': 282.28170900000003, 'top': 107.43206999999995, 'doctop': 107.43206999999995, 'bottom': 119.10206999999991, 'upright': True, 'height': 11.669999999999959, 'width': 4.539629999999988, 'direction': 'ltr', 'fontname': 'OIKOMH+Arial,Bold', 'size': 11.669999999999959, 'adv': 0.389}\n"
     ]
    }
   ],
   "source": [
    "import pdfplumber\n",
    "pdf = pdfplumber.open(\"../app/input/sample.pdf\")\n",
    "page = pdf.pages[0]\n",
    "raw = page.extract_words(extra_attrs=[\"fontname\",\"size\",\"adv\"])\n",
    "for w in raw[:10]:\n",
    "    print(w)"
   ]
  },
  {
   "cell_type": "code",
   "execution_count": 11,
   "id": "02af0bcc",
   "metadata": {},
   "outputs": [
    {
     "name": "stdout",
     "output_type": "stream",
     "text": [
      "[(9.744399999999985, 333), (9.744400000000041, 298), (9.744399999999928, 289), (11.669999999999959, 28)]\n"
     ]
    }
   ],
   "source": [
    "sizes = [w['size'] for w in raw]\n",
    "from collections import Counter\n",
    "counts = Counter(sizes)\n",
    "print(counts.most_common(5))"
   ]
  },
  {
   "cell_type": "code",
   "execution_count": 12,
   "id": "8db067e4",
   "metadata": {},
   "outputs": [
    {
     "name": "stdout",
     "output_type": "stream",
     "text": [
      "Title Candidates: ['A', 'pp', 'li', 'ca', 't', 'i', 'on', 'f', 'o', 'r', 'm', 'f', 'o', 'r', 'g', 'r', 'a', 'n', 't', 'o', 'f', 'LT', 'C', 'a', 'd', 'va', 'n', 'ce']\n"
     ]
    }
   ],
   "source": [
    "max_size = max(sizes)\n",
    "title_candidates = [w for w in raw if w['size'] == max_size]\n",
    "print(\"Title Candidates:\", [c['text'] for c in title_candidates])"
   ]
  }
 ],
 "metadata": {
  "kernelspec": {
   "display_name": "Python 3",
   "language": "python",
   "name": "python3"
  },
  "language_info": {
   "codemirror_mode": {
    "name": "ipython",
    "version": 3
   },
   "file_extension": ".py",
   "mimetype": "text/x-python",
   "name": "python",
   "nbconvert_exporter": "python",
   "pygments_lexer": "ipython3",
   "version": "3.13.1"
  }
 },
 "nbformat": 4,
 "nbformat_minor": 5
}
